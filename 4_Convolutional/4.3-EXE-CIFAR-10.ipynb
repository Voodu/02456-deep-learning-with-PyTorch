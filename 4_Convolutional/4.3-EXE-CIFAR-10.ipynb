{
  "nbformat": 4,
  "nbformat_minor": 0,
  "metadata": {
    "accelerator": "GPU",
    "colab": {
      "name": "Copy of Copy of 4.3-EXE-CIFAR-10.ipynb",
      "provenance": [],
      "collapsed_sections": []
    },
    "kernelspec": {
      "display_name": "Python 3",
      "language": "python",
      "name": "python3"
    },
    "language_info": {
      "codemirror_mode": {
        "name": "ipython",
        "version": 3
      },
      "file_extension": ".py",
      "mimetype": "text/x-python",
      "name": "python",
      "nbconvert_exporter": "python",
      "pygments_lexer": "ipython3",
      "version": "3.8.3"
    }
  },
  "cells": [
    {
      "cell_type": "markdown",
      "metadata": {
        "id": "bu1Wy6Xb81Sn"
      },
      "source": [
        "# Credits\n",
        "\n",
        "This is heavily influenced from https://github.com/pytorch/tutorials"
      ]
    },
    {
      "cell_type": "markdown",
      "metadata": {
        "id": "oZW0gaQO81Sq"
      },
      "source": [
        "# CIFAR-10\n",
        "\n",
        "In thins notebook you need to put what you have learned into practice, and create your own convolutional classifier for the CIFAR-10 dataset.\n",
        "\n",
        "It has the classes: ‘airplane’, ‘automobile’, ‘bird’, ‘cat’, ‘deer’, ‘dog’, ‘frog’, ‘horse’, ‘ship’, ‘truck’.\n",
        "The images in CIFAR-10 are of size 3x32x32, i.e. 3-channel color images of 32x32 pixels in size.\n",
        "\n",
        "![cifar10](https://github.com/DeepLearningDTU/02456-deep-learning-with-PyTorch/blob/master/static_files/cifar10.png?raw=1)\n",
        "\n",
        "\n",
        "In order to train a classifier the following steps needs to be performed:\n",
        "\n",
        "1. Load and normalizing the CIFAR10 training and test datasets using\n",
        "   ``torchvision``\n",
        "2. Define a Convolutional Neural Network\n",
        "3. Define a loss function\n",
        "4. Train the network on the training data\n",
        "5. Test the network on the test data\n",
        "\n",
        "We will help you along the way.\n",
        "We indicate the places you need to modify the code with `# Your code here!`.\n",
        "It is however a good idea to read the entire assignment before you begin coding!"
      ]
    },
    {
      "cell_type": "markdown",
      "metadata": {
        "id": "htyg7xxN81St"
      },
      "source": [
        "## 1. Loading and normalizing CIFAR10\n",
        "\n",
        "Using ``torchvision``, it’s extremely easy to load CIFAR10."
      ]
    },
    {
      "cell_type": "code",
      "metadata": {
        "id": "v3u2GIWr81Su"
      },
      "source": [
        "%matplotlib inline\n",
        "import matplotlib.pyplot as plt\n",
        "import numpy as np\n",
        "\n",
        "import torch\n",
        "import torchvision\n",
        "import torchvision.transforms as transforms\n",
        "import torch.nn as nn\n",
        "\n",
        "from torch.autograd import Variable\n",
        "import torch.nn.functional as F"
      ],
      "execution_count": 34,
      "outputs": []
    },
    {
      "cell_type": "markdown",
      "metadata": {
        "id": "xx5SHRkm81S0"
      },
      "source": [
        "The output of torchvision datasets are PILImage images of range [0, 1].\n",
        "We transform them to Tensors of normalized range [-1, 1]\n",
        "\n",
        "**NB** Modify the code below to only use a small part of the dataset if your computer is very slow."
      ]
    },
    {
      "cell_type": "code",
      "metadata": {
        "id": "QZeTujLC81S3",
        "outputId": "b9594c82-4ade-4def-957d-1b2b9ec1f54d",
        "colab": {
          "base_uri": "https://localhost:8080/",
          "height": 67
        }
      },
      "source": [
        "transform = transforms.Compose(\n",
        "    [transforms.ToTensor(),\n",
        "     transforms.Normalize((0.5, 0.5, 0.5),(0.5, 0.5, 0.5))\n",
        "    ]\n",
        ")\n",
        "\n",
        "# Load dataset\n",
        "trainset = torchvision.datasets.CIFAR10(root='./data', train=True,\n",
        "                                        download=True, transform=transform)\n",
        "testset = torchvision.datasets.CIFAR10(root='./data', train=False,\n",
        "                                       download=True, transform=transform)\n",
        "\n",
        "classes = ('plane', 'car', 'bird', 'cat', 'deer',\n",
        "           'dog', 'frog', 'horse', 'ship', 'truck')\n",
        "\n",
        "used_categories = range(len(classes))\n",
        "\n",
        "## USE CODE BELOW IF YOUR COMPUTER IS TOO SLOW\n",
        "reduce_dataset = False\n",
        "if reduce_dataset:\n",
        "    used_categories = (3, 5) # cats and dogs\n",
        "\n",
        "    classes = [classes[i] for i in used_categories]\n",
        "    new_train_data = []\n",
        "    new_train_labels = []\n",
        "\n",
        "    new_test_data = []\n",
        "    new_test_labels = []\n",
        "    for i, t in enumerate(used_categories):\n",
        "        new_train_data.append(trainset.data[np.where(np.array(trainset.targets) == t)])\n",
        "        new_train_labels += [i for _ in range(new_train_data[-1].shape[0])]\n",
        "\n",
        "        new_test_data.append(testset.data[np.where(np.array(testset.targets) == t)])\n",
        "        new_test_labels += [i for _ in range(new_test_data[-1].shape[0])]\n",
        "\n",
        "    new_train_data = np.concatenate(new_train_data, 0)\n",
        "    trainset.data = new_train_data\n",
        "    trainset.targets = new_train_labels\n",
        "\n",
        "    new_test_data = np.concatenate(new_test_data, 0)\n",
        "    testset.data = new_test_data\n",
        "    testset.targets = new_test_labels\n",
        "\n",
        "    \n",
        "trainloader = torch.utils.data.DataLoader(trainset, batch_size=4,\n",
        "                                          shuffle=True, num_workers=2)\n",
        "testloader = torch.utils.data.DataLoader(testset, batch_size=4,\n",
        "                                         shuffle=True, num_workers=2)\n",
        "train_data_iter = iter(trainloader)\n",
        "test_data_iter = iter(testloader)\n",
        "print('used classes:', classes)"
      ],
      "execution_count": 35,
      "outputs": [
        {
          "output_type": "stream",
          "text": [
            "Files already downloaded and verified\n",
            "Files already downloaded and verified\n",
            "used classes: ('plane', 'car', 'bird', 'cat', 'deer', 'dog', 'frog', 'horse', 'ship', 'truck')\n"
          ],
          "name": "stdout"
        }
      ]
    },
    {
      "cell_type": "code",
      "metadata": {
        "id": "JDHkc52L81S9",
        "outputId": "fc64f5bb-36d6-417e-8e25-c4868ed35f56",
        "colab": {
          "base_uri": "https://localhost:8080/",
          "height": 167
        }
      },
      "source": [
        "print(\"# Training data\")\n",
        "print(\"Number of points:\", len(trainset))\n",
        "x, y = next(iter(trainloader))\n",
        "print(\"Batch dimension [B x C x H x W]:\", x.shape)\n",
        "print(\"Number of distinct labels:\", len(set(trainset.targets)))\n",
        "\n",
        "\n",
        "print(\"\\n# Test data\")\n",
        "print(\"Number of points:\", len(testset))\n",
        "x, y = next(iter(testloader))\n",
        "print(\"Batch dimension [B x C x H x W]:\", x.shape)\n",
        "print(\"Number of distinct labels:\", len(set(testset.targets)))"
      ],
      "execution_count": 36,
      "outputs": [
        {
          "output_type": "stream",
          "text": [
            "# Training data\n",
            "Number of points: 50000\n",
            "Batch dimension [B x C x H x W]: torch.Size([4, 3, 32, 32])\n",
            "Number of distinct labels: 10\n",
            "\n",
            "# Test data\n",
            "Number of points: 10000\n",
            "Batch dimension [B x C x H x W]: torch.Size([4, 3, 32, 32])\n",
            "Number of distinct labels: 10\n"
          ],
          "name": "stdout"
        }
      ]
    },
    {
      "cell_type": "markdown",
      "metadata": {
        "id": "xSA1h94681TB"
      },
      "source": [
        "Let us show some of the training images, for fun.\n",
        "\n"
      ]
    },
    {
      "cell_type": "code",
      "metadata": {
        "id": "njJy0klP81TD",
        "outputId": "252b3afc-1cda-4104-83d7-bc8c5136241c",
        "colab": {
          "base_uri": "https://localhost:8080/",
          "height": 155
        }
      },
      "source": [
        "# Run this cell multiple time to see more samples\n",
        "\n",
        "def imshow(img):\n",
        "    \"\"\" show an image \"\"\"\n",
        "    img = img / 2 + 0.5 # unnormalize\n",
        "    npimg = img.numpy()\n",
        "    plt.imshow(np.transpose(npimg, (1, 2, 0)))\n",
        "\n",
        "\n",
        "# get some random training images\n",
        "images, labels = train_data_iter.next()\n",
        "\n",
        "# show images\n",
        "imshow(torchvision.utils.make_grid(images))\n",
        "\n",
        "# print labels\n",
        "print(' '.join('%5s' % classes[labels[j]] for j in range(4)))"
      ],
      "execution_count": 37,
      "outputs": [
        {
          "output_type": "stream",
          "text": [
            "truck truck   car  frog\n"
          ],
          "name": "stdout"
        },
        {
          "output_type": "display_data",
          "data": {
            "image/png": "[encoded data removed]",
            "text/plain": [
              "<Figure size 432x288 with 1 Axes>"
            ]
          },
          "metadata": {
            "tags": [],
            "needs_background": "light"
          }
        }
      ]
    },
    {
      "cell_type": "markdown",
      "metadata": {
        "id": "Wt3BVFMF81TI"
      },
      "source": [
        "## 2. Define a Convolutional Neural Network\n",
        "\n",
        "**Assignment 1:** Define a convolutional neural network. \n",
        "You may use the code from previous notebooks.\n",
        "We suggest that you start with a small network, and make sure that everything is working.\n",
        "Once you can train successfully come back and improve the architecture"
      ]
    },
    {
      "cell_type": "code",
      "metadata": {
        "id": "_EsKbw3o81TK",
        "outputId": "e0eefae8-8af7-48c2-b6b9-12c8d95323f7",
        "colab": {
          "base_uri": "https://localhost:8080/",
          "height": 385
        }
      },
      "source": [
        "# torch.Size([4, 3, 32, 32])\n",
        "class Net(nn.Module):\n",
        "    def __init__(self, num_classes):\n",
        "        super(Net, self).__init__()\n",
        "        self.num_classes = num_classes\n",
        "\n",
        "        self.cnn = nn.Sequential(\n",
        "            # B1\n",
        "            nn.Conv2d(in_channels=3, out_channels=16, kernel_size=3, padding=1),\n",
        "            nn.ReLU(inplace=True),\n",
        "            nn.MaxPool2d(kernel_size=2, stride=2),\n",
        "            nn.Dropout2d(p=0.05),\n",
        "\n",
        "            # B2\n",
        "            nn.Conv2d(in_channels=16, out_channels=32, kernel_size=3, padding=1),\n",
        "            nn.ReLU(inplace=True),\n",
        "            nn.MaxPool2d(kernel_size=2, stride=2),\n",
        "            nn.Dropout2d(p=0.05)\n",
        "        )\n",
        "\n",
        "        n_out_channels = self.cnn[-4].out_channels\n",
        "        n_pool_layers = 2\n",
        "        dl_input_size = n_out_channels * 32//(2**n_pool_layers) * 32//(2**n_pool_layers)\n",
        "\n",
        "        self.dl = nn.Sequential(\n",
        "            nn.Linear(dl_input_size, 512),\n",
        "            nn.ReLU(inplace=True),\n",
        "            nn.Dropout(p=0.1),\n",
        "\n",
        "            nn.Linear(512, 256),\n",
        "            nn.ReLU(inplace=True),\n",
        "            nn.Dropout(p=0.1),\n",
        "\n",
        "            nn.Linear(256, self.num_classes)\n",
        "        )\n",
        "\n",
        "    def forward(self, x):\n",
        "        x = self.cnn(x)\n",
        "        x = x.view(x.size(0), -1)\n",
        "        x = self.dl(x)\n",
        "        return x\n",
        "    \n",
        "\n",
        "net = Net(len(set(trainset.targets)))\n",
        "if torch.cuda.is_available():\n",
        "    print('##converting network to cuda-enabled')\n",
        "    net.cuda()\n",
        "print(net)"
      ],
      "execution_count": 38,
      "outputs": [
        {
          "output_type": "stream",
          "text": [
            "##converting network to cuda-enabled\n",
            "Net(\n",
            "  (cnn): Sequential(\n",
            "    (0): Conv2d(3, 16, kernel_size=(3, 3), stride=(1, 1), padding=(1, 1))\n",
            "    (1): ReLU(inplace=True)\n",
            "    (2): MaxPool2d(kernel_size=2, stride=2, padding=0, dilation=1, ceil_mode=False)\n",
            "    (3): Dropout2d(p=0.05, inplace=False)\n",
            "    (4): Conv2d(16, 32, kernel_size=(3, 3), stride=(1, 1), padding=(1, 1))\n",
            "    (5): ReLU(inplace=True)\n",
            "    (6): MaxPool2d(kernel_size=2, stride=2, padding=0, dilation=1, ceil_mode=False)\n",
            "    (7): Dropout2d(p=0.05, inplace=False)\n",
            "  )\n",
            "  (dl): Sequential(\n",
            "    (0): Linear(in_features=2048, out_features=512, bias=True)\n",
            "    (1): ReLU(inplace=True)\n",
            "    (2): Dropout(p=0.1, inplace=False)\n",
            "    (3): Linear(in_features=512, out_features=256, bias=True)\n",
            "    (4): ReLU(inplace=True)\n",
            "    (5): Dropout(p=0.1, inplace=False)\n",
            "    (6): Linear(in_features=256, out_features=10, bias=True)\n",
            "  )\n",
            ")\n"
          ],
          "name": "stdout"
        }
      ]
    },
    {
      "cell_type": "markdown",
      "metadata": {
        "id": "7-IUg3sq81TQ"
      },
      "source": [
        "## 3. Define a Loss function and optimizer\n",
        "\n",
        "**Assignment 2:** Implement the criterion and optimizer. \n",
        "We suggest Classification Cross-Entropy loss and SGD with momentum.\n",
        "You might need to experiment a bit with the learning rate."
      ]
    },
    {
      "cell_type": "code",
      "metadata": {
        "id": "48AX85QP81TR"
      },
      "source": [
        "import torch.optim as optim\n",
        "\n",
        "criterion = nn.CrossEntropyLoss()  # Your code here!\n",
        "optimizer = optim.Adam(net.parameters(), lr=0.0001)  # Your code here!"
      ],
      "execution_count": 39,
      "outputs": []
    },
    {
      "cell_type": "markdown",
      "metadata": {
        "id": "-WneIN7C81TV"
      },
      "source": [
        "## 4. Train the network\n",
        "\n",
        "**Assignment 3:** Finish the training loop below. \n",
        "Start by using a small number of epochs (e.g. 3).\n",
        "Even with a low number of epochs you should be able to see results that are better than chance.\n",
        "When everything is working increase the number of epochs to find out how good your network really is."
      ]
    },
    {
      "cell_type": "code",
      "metadata": {
        "id": "NkUanRRb81TW",
        "outputId": "a60f6a06-9db2-49b0-e9cc-37ec79a43e6a",
        "colab": {
          "base_uri": "https://localhost:8080/",
          "height": 1000
        }
      },
      "source": [
        "num_epoch = 10  # Your code here!\n",
        "\n",
        "for epoch in range(num_epoch):  # loop over the dataset multiple times\n",
        "\n",
        "    running_loss = 0.0\n",
        "    for i, data in enumerate(trainloader, 0):\n",
        "        # get the inputs\n",
        "        inputs, target_labels = data\n",
        "\n",
        "        # wrap them in Variable\n",
        "        inputs, target_labels = Variable(inputs), Variable(target_labels)\n",
        "        if torch.cuda.is_available():\n",
        "          inputs, target_labels = inputs.cuda(), target_labels.cuda()\n",
        "\n",
        "        # zero the parameter gradients\n",
        "        optimizer.zero_grad()# Your code here!\n",
        "\n",
        "        # forward + backward + optimize\n",
        "        # Your code here!\n",
        "        out = net(inputs)\n",
        "        loss = criterion(out, target_labels)\n",
        "        loss.backward()\n",
        "        optimizer.step()\n",
        " \n",
        "        # print statistics\n",
        "        running_loss += loss.item()\n",
        "        if i % 1000 == 999:    # print every 1000 mini-batches\n",
        "            print('[%d, %5d] loss: %.3f' %\n",
        "                  (epoch + 1, i + 1, running_loss / 1000))\n",
        "            running_loss = 0.0\n",
        "\n",
        "print('Finished Training')"
      ],
      "execution_count": 40,
      "outputs": [
        {
          "output_type": "stream",
          "text": [
            "[1,  1000] loss: 2.044\n",
            "[1,  2000] loss: 1.796\n",
            "[1,  3000] loss: 1.671\n",
            "[1,  4000] loss: 1.611\n",
            "[1,  5000] loss: 1.542\n",
            "[1,  6000] loss: 1.527\n",
            "[1,  7000] loss: 1.474\n",
            "[1,  8000] loss: 1.436\n",
            "[1,  9000] loss: 1.414\n",
            "[1, 10000] loss: 1.399\n",
            "[1, 11000] loss: 1.347\n",
            "[1, 12000] loss: 1.347\n",
            "[2,  1000] loss: 1.303\n",
            "[2,  2000] loss: 1.267\n",
            "[2,  3000] loss: 1.263\n",
            "[2,  4000] loss: 1.260\n",
            "[2,  5000] loss: 1.227\n",
            "[2,  6000] loss: 1.233\n",
            "[2,  7000] loss: 1.206\n",
            "[2,  8000] loss: 1.168\n",
            "[2,  9000] loss: 1.175\n",
            "[2, 10000] loss: 1.154\n",
            "[2, 11000] loss: 1.162\n",
            "[2, 12000] loss: 1.155\n",
            "[3,  1000] loss: 1.099\n",
            "[3,  2000] loss: 1.095\n",
            "[3,  3000] loss: 1.050\n",
            "[3,  4000] loss: 1.088\n",
            "[3,  5000] loss: 1.075\n",
            "[3,  6000] loss: 1.067\n",
            "[3,  7000] loss: 1.045\n",
            "[3,  8000] loss: 1.055\n",
            "[3,  9000] loss: 1.026\n",
            "[3, 10000] loss: 1.069\n",
            "[3, 11000] loss: 1.013\n",
            "[3, 12000] loss: 1.021\n",
            "[4,  1000] loss: 0.946\n",
            "[4,  2000] loss: 0.955\n",
            "[4,  3000] loss: 0.960\n",
            "[4,  4000] loss: 0.938\n",
            "[4,  5000] loss: 0.964\n",
            "[4,  6000] loss: 0.945\n",
            "[4,  7000] loss: 0.962\n",
            "[4,  8000] loss: 0.929\n",
            "[4,  9000] loss: 0.947\n",
            "[4, 10000] loss: 0.929\n",
            "[4, 11000] loss: 0.932\n",
            "[4, 12000] loss: 0.926\n",
            "[5,  1000] loss: 0.860\n",
            "[5,  2000] loss: 0.840\n",
            "[5,  3000] loss: 0.833\n",
            "[5,  4000] loss: 0.876\n",
            "[5,  5000] loss: 0.849\n",
            "[5,  6000] loss: 0.848\n",
            "[5,  7000] loss: 0.880\n",
            "[5,  8000] loss: 0.851\n",
            "[5,  9000] loss: 0.826\n",
            "[5, 10000] loss: 0.836\n",
            "[5, 11000] loss: 0.809\n",
            "[5, 12000] loss: 0.855\n",
            "[6,  1000] loss: 0.734\n",
            "[6,  2000] loss: 0.735\n",
            "[6,  3000] loss: 0.739\n",
            "[6,  4000] loss: 0.759\n",
            "[6,  5000] loss: 0.786\n",
            "[6,  6000] loss: 0.769\n",
            "[6,  7000] loss: 0.775\n",
            "[6,  8000] loss: 0.742\n",
            "[6,  9000] loss: 0.781\n",
            "[6, 10000] loss: 0.759\n",
            "[6, 11000] loss: 0.737\n",
            "[6, 12000] loss: 0.769\n",
            "[7,  1000] loss: 0.658\n",
            "[7,  2000] loss: 0.659\n",
            "[7,  3000] loss: 0.692\n",
            "[7,  4000] loss: 0.716\n",
            "[7,  5000] loss: 0.686\n",
            "[7,  6000] loss: 0.660\n",
            "[7,  7000] loss: 0.680\n",
            "[7,  8000] loss: 0.679\n",
            "[7,  9000] loss: 0.669\n",
            "[7, 10000] loss: 0.711\n",
            "[7, 11000] loss: 0.695\n",
            "[7, 12000] loss: 0.683\n",
            "[8,  1000] loss: 0.594\n",
            "[8,  2000] loss: 0.558\n",
            "[8,  3000] loss: 0.570\n",
            "[8,  4000] loss: 0.628\n",
            "[8,  5000] loss: 0.595\n",
            "[8,  6000] loss: 0.590\n",
            "[8,  7000] loss: 0.582\n",
            "[8,  8000] loss: 0.607\n",
            "[8,  9000] loss: 0.640\n",
            "[8, 10000] loss: 0.602\n",
            "[8, 11000] loss: 0.600\n",
            "[8, 12000] loss: 0.620\n",
            "[9,  1000] loss: 0.517\n",
            "[9,  2000] loss: 0.507\n",
            "[9,  3000] loss: 0.514\n",
            "[9,  4000] loss: 0.526\n",
            "[9,  5000] loss: 0.517\n",
            "[9,  6000] loss: 0.527\n",
            "[9,  7000] loss: 0.533\n",
            "[9,  8000] loss: 0.511\n",
            "[9,  9000] loss: 0.547\n",
            "[9, 10000] loss: 0.558\n",
            "[9, 11000] loss: 0.558\n",
            "[9, 12000] loss: 0.544\n",
            "[10,  1000] loss: 0.438\n",
            "[10,  2000] loss: 0.443\n",
            "[10,  3000] loss: 0.458\n",
            "[10,  4000] loss: 0.477\n",
            "[10,  5000] loss: 0.431\n",
            "[10,  6000] loss: 0.487\n",
            "[10,  7000] loss: 0.483\n",
            "[10,  8000] loss: 0.467\n",
            "[10,  9000] loss: 0.477\n",
            "[10, 10000] loss: 0.467\n",
            "[10, 11000] loss: 0.462\n",
            "[10, 12000] loss: 0.480\n",
            "Finished Training\n"
          ],
          "name": "stdout"
        }
      ]
    },
    {
      "cell_type": "markdown",
      "metadata": {
        "id": "0qAsbC8I81Ta"
      },
      "source": [
        "## 5. Test the network on the test data\n",
        "\n",
        "Now we need to check if the network has learnt anything at all.\n",
        "We will check this by predicting the class label that the neural network outputs, and checking it against the ground truth.\n",
        "If the prediction is correct, we add the sample to the list of correct predictions.\n",
        "\n",
        "Okay, first step. Let us display an image from the test set to get familiar."
      ]
    },
    {
      "cell_type": "code",
      "metadata": {
        "id": "7LT0RoAC81Tc",
        "outputId": "7ab73c7e-c35b-4000-bf53-58119ef93ad5",
        "colab": {
          "base_uri": "https://localhost:8080/",
          "height": 172
        }
      },
      "source": [
        "images, labels = test_data_iter.next()\n",
        "\n",
        "# print images\n",
        "imshow(torchvision.utils.make_grid(images))\n",
        "plt.show()\n",
        "\n",
        "print('GroundTruth:  ', ' '.join('%5s' % classes[labels[j]] for j in range(4)))\n",
        "\n",
        "if torch.cuda.is_available():\n",
        "  images = images.cuda()\n",
        "outputs = net(images)\n",
        "_, predicted = torch.max(outputs.data, 1)\n",
        "print('Predicted:    ', ' '.join('%5s' % classes[predicted[j]] for j in range(4)))"
      ],
      "execution_count": 41,
      "outputs": [
        {
          "output_type": "display_data",
          "data": {
            "image/png": "[encoded data removed]",
            "text/plain": [
              "<Figure size 432x288 with 1 Axes>"
            ]
          },
          "metadata": {
            "tags": [],
            "needs_background": "light"
          }
        },
        {
          "output_type": "stream",
          "text": [
            "GroundTruth:    frog   car   car   dog\n",
            "Predicted:      frog   car truck plane\n"
          ],
          "name": "stdout"
        }
      ]
    },
    {
      "cell_type": "markdown",
      "metadata": {
        "id": "ISA6LJJO81Tg"
      },
      "source": [
        "Let us look at how the network performs on the whole dataset."
      ]
    },
    {
      "cell_type": "code",
      "metadata": {
        "id": "Smv6_BwF81Ti",
        "outputId": "01e8fa2d-a24f-4d35-c738-92fd7a9f1330",
        "colab": {
          "base_uri": "https://localhost:8080/",
          "height": 33
        }
      },
      "source": [
        "correct = 0\n",
        "total = 0\n",
        "\n",
        "for data in testloader:\n",
        "    images, labels = data\n",
        "    if torch.cuda.is_available():\n",
        "      images, labels = images.cuda(), labels.cuda()\n",
        "    outputs = net(Variable(images))\n",
        "    _, predicted = torch.max(outputs.data, 1)\n",
        "    total += labels.size(0)\n",
        "    correct += (predicted == labels).sum()\n",
        "\n",
        "print('Accuracy of the network on the {} test images: {:4.2f} %'.format(\n",
        "    testset.data.shape[0], 100 * correct.true_divide(total)))"
      ],
      "execution_count": 42,
      "outputs": [
        {
          "output_type": "stream",
          "text": [
            "Accuracy of the network on the 10000 test images: 68.04 %\n"
          ],
          "name": "stdout"
        }
      ]
    },
    {
      "cell_type": "markdown",
      "metadata": {
        "id": "QMZRvhaW81Tl"
      },
      "source": [
        "Hopefully the network is better than chance, which is $\\frac{1}{\\text{number of classes}}$ accuracy (randomly picking\n",
        "a class).\n",
        "\n",
        "\n",
        "We can also examine which class the network found the most difficult (makes more sense if you have many clases):"
      ]
    },
    {
      "cell_type": "code",
      "metadata": {
        "id": "WqVTQgKq81Tl",
        "outputId": "a02c8c12-f1cc-4203-c2b0-a0b14098de36",
        "colab": {
          "base_uri": "https://localhost:8080/",
          "height": 184
        }
      },
      "source": [
        "class_total = list(0. for i in range(len(classes)))\n",
        "class_correct = list(0. for i in range(len(classes)))\n",
        "\n",
        "for data in testloader:\n",
        "    images, labels = data\n",
        "    if torch.cuda.is_available():\n",
        "      images, labels = images.cuda(), labels.cuda()\n",
        "\n",
        "    outputs = net(Variable(images))\n",
        "    _, predicted = torch.max(outputs.data, 1)\n",
        "    c = (predicted == labels).squeeze()\n",
        "    \n",
        "    for i in range(len(c)):\n",
        "        label = labels[i]\n",
        "        class_correct[label] += c[i].cpu().numpy()\n",
        "        class_total[label] += 1\n",
        "\n",
        "for i in range(len(classes)):\n",
        "    print('Accuracy of {:5s} : {:5.2f} %'.format(\n",
        "        classes[i], 100 * class_correct[i] / class_total[i]))"
      ],
      "execution_count": 45,
      "outputs": [
        {
          "output_type": "stream",
          "text": [
            "Accuracy of plane : 69.20 %\n",
            "Accuracy of car   : 76.80 %\n",
            "Accuracy of bird  : 55.30 %\n",
            "Accuracy of cat   : 54.50 %\n",
            "Accuracy of deer  : 67.80 %\n",
            "Accuracy of dog   : 50.40 %\n",
            "Accuracy of frog  : 80.50 %\n",
            "Accuracy of horse : 72.60 %\n",
            "Accuracy of ship  : 76.70 %\n",
            "Accuracy of truck : 74.60 %\n"
          ],
          "name": "stdout"
        }
      ]
    },
    {
      "cell_type": "markdown",
      "metadata": {
        "id": "ocnQOBAl81Tn"
      },
      "source": [
        "**Assignment 4:** \n",
        "1. Go back and improve performance of the network. \n",
        " * If you are using all 10 classes you should get a test accuracy above 55%, but see how much further you can get it!\n",
        " * If you are using only 2 classes (e.g. cat and dog) you should get a test accuracy above 60%, but see how much further you can get it!\n",
        "\n",
        "2. Briefly describe what you did and any experiments you did along the way as well as what results you obtained.\n",
        "Did anything surprise you during the exercise?\n",
        "\n",
        "3. Write down key lessons/insights you got (if any) during this exercise.\n",
        "\n",
        "**Answer:**\n",
        "\n",
        "1. Works, 68% for all the data\n",
        "2. \n",
        "\n",
        "  I started with comparing, what impacts the score more - number of conv or dense layers. I compared two networks - 2Conv + 1Dense and 1Conv + 2Dense. It turned out that neither of them has significantly bigger influence; after 3 epochs losses in both architectures were similar\n",
        "\n",
        "  After that, I stuck with 2Conv + 2Dense architecture and examined dropout influence. I was not that convinced about its importance, but it turned out that it caused the most significant improvement out of all the experiments. \n",
        "\n",
        "  The last thing to check was different optimizer. I replaced SGD with Adam and observed faster convergence rate\n",
        "\n",
        "  *All the Conv layers included MaxPool layer*\n",
        "\n",
        "3. The most important observation for me is the influence of dropout. Before that exercise I slightly underestimated that tool."
      ]
    },
    {
      "cell_type": "markdown",
      "metadata": {
        "id": "8Nzefavy81To"
      },
      "source": [
        "# Training on GPU\n",
        "\n",
        "**Optional Assignment:**\n",
        "If you have a GPU we suggest that you try and rewrite the code above to run on the GPU\n",
        "___\n",
        "\n",
        "Just like how you transfer a Tensor on to the GPU, you transfer the neural net onto the GPU.\n",
        "This will recursively go over all modules and convert their parameters and buffers to CUDA tensors:\n",
        "\n",
        "```\n",
        "    net.cuda()\n",
        "```\n",
        "\n",
        "Remember that you will have to send the inputs and targets at every step to the GPU too:\n",
        "\n",
        "```\n",
        "    inputs, labels = Variable(inputs.cuda()), Variable(labels.cuda())\n",
        "```\n",
        "\n",
        "Why dont I notice MASSIVE speedup compared to CPU? \n",
        "Because your network is realllly small.\n",
        "\n",
        "**Exercise:** Try increasing the width of your network (argument 2 of\n",
        "the first ``nn.Conv2d``, and argument 1 of the second ``nn.Conv2d`` –\n",
        "they need to be the same number), see what kind of speedup you get.\n",
        "\n",
        "**Goals achieved**:\n",
        "\n",
        "- Understanding PyTorch's Tensor library and neural networks at a high level.\n",
        "- Train a small neural network to classify images\n",
        "\n",
        "## Setting up GPU in Colab\n",
        "\n",
        "In Colab, you will get 12 hours of execution time but the session will be disconnected if you are idle for more than 60 minutes. It means that for every 12 hours Disk, RAM, CPU Cache and the Data that is on our allocated virtual machine will get erased.\n",
        "\n",
        "To enable GPU hardware accelerator, just go to **Runtime -> Change runtime type -> Hardware accelerator -> GPU**"
      ]
    },
    {
      "cell_type": "markdown",
      "metadata": {
        "id": "b8mEIylU81Tp"
      },
      "source": [
        "# Michael Nielsen book exercise of own choice\n",
        "\n",
        "**Assignment 5:** Pick an exercise of own choice from [Michael Nielsens book](http://neuralnetworksanddeeplearning.com/)\n",
        "\n",
        "**Answer:**\n",
        "\n",
        "\n",
        "\n"
      ]
    },
    {
      "source": [
        "Book exercise - verify that\n",
        "$\n",
        "\\sigma'(z) = \\sigma(z)(1 - \\sigma(z))\n",
        "$\n",
        "(http://neuralnetworksanddeeplearning.com/chap3.html)\n",
        "\n",
        "**Answer**\n",
        "\n",
        "$$\n",
        "\\sigma(z) = \\frac{1}{1 + e^{-z}} \\\\\n",
        "\\begin{align}\n",
        "  \\\\\n",
        "  & \\frac{d \\sigma(z)}{dz} \\\\\n",
        "  &= \\frac{d(1 + e^{-z})^{-1}}{d(1 + e^{-z})}\\frac{d(1 + e^{-z})}{dz} \\\\\n",
        "  &= -(1 + e^{-z})^{-2}(-e^{-z}) \\\\\n",
        "  &= \\frac{e^{-z}}{(1 + e^{-z})^2} \\\\\n",
        "\\end{align}\n",
        "$$\n",
        "\n",
        "Then\n",
        "\n",
        "$$\n",
        "\\begin{align}\n",
        "& \\frac{e^{-z}}{(1 + e^{-z})^2} \\\\\n",
        "&= \\frac{1}{1 + e^{-z}}\\frac{e^{-z}}{1 + e^{-z}} = \\\\\n",
        "&= \\frac{1}{1 + e^{-z}}\\frac{(1 + e^{-z}) - 1}{1 + e^{-z}} = \\\\\n",
        "&= \\frac{1}{1 + e^{-z}}(\\frac{(1 + e^{-z})}{1 + e^{-z}} - \\frac{1}{1 + e^{-z}}) = \\\\\n",
        "&= \\frac{1}{1 + e^{-z}}(1 - \\frac{1}{1 + e^{-z}}) = \\\\\n",
        "&= \\sigma(z)(1 - \\sigma(z)) \\\\Q.E.D.\n",
        "\\end{align}\n",
        "$$\n",
        "\n"
      ],
      "cell_type": "markdown",
      "metadata": {}
    }
  ]
}